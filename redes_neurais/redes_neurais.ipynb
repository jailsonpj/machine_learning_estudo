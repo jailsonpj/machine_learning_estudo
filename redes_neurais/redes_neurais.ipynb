{
 "cells": [
  {
   "cell_type": "markdown",
   "metadata": {},
   "source": [
    "# Introdução às Redes Neurais Artificiais"
   ]
  },
  {
   "cell_type": "markdown",
   "metadata": {},
   "source": [
    "Uma das premissas fundamentais da Inteligência Artificial é construir máquinas que possam realizar tarefas que exijam inteligência humana. O cérebro humano é incrível em aprender coisas novas. Por que não usar o modelo do cérebro humano para construir uma máquina? Uma rede neural artificial é um modelo projetado para simular o processo de aprendizagem do cérebro humano.\n",
    "\n",
    "As redes neurais artificiais são projetadas de modo que possam identificar os padrões subjacentes nos dados e aprender com eles. Eles podem ser usados ​​para várias tarefas, como classificação, regressão, segmentação e assim por diante. Precisamos converter qualquer dado dado em formato numérico antes de alimentá-lo na rede neural. Por exemplo, lidamos com muitos tipos diferentes de dados, incluindo visual, textual, série temporal e assim por diante. Precisamos descobrir como representar problemas de uma maneira que possa ser entendida por redes neurais artificiais."
   ]
  },
  {
   "cell_type": "markdown",
   "metadata": {},
   "source": [
    "# Construindo uma Rede Neural"
   ]
  },
  {
   "cell_type": "markdown",
   "metadata": {},
   "source": [
    "O processo de aprendizagem humana é hierárquico. Temos vários estágios na rede neural do nosso cérebro e cada estágio corresponde a uma granuidade diferente. Alguns estágios aprendem coisas simples e alguns estágios aprendem coisas mais complexas. Vamos considerar um exemplo de reconhecimento visual de um objeto. quando olhamos para uma caixa, o primeiro estágio identifica coisas simples como cantos e bordas. O próximo estágio identifica a forma genérica e o estágio depois disso identifica que tipo de objeto é. Este processo é diferente para trefas diferentes, mas você entende a ideia! Ao construir essa hieráquia, nosso cérebro humano separa rapidamente os conceitos e identifica o objeto dado.\n",
    "\n",
    "Para simular o processo de aprendizagem do cérebro humano, uma rede neural artificial é construída usando camadas de neurônios. Esses neurônios são inspirados pelos neurônios biológicos que discutimos no parágrafo anterior. Cada camada em uma rede neural artificial é um conjunto de neurônios independentes . Cada neurõnio em uma camada é conectado aos neurônios na camada adjacente."
   ]
  },
  {
   "cell_type": "markdown",
   "metadata": {},
   "source": [
    "# Treinando uma Rede Neural"
   ]
  },
  {
   "cell_type": "markdown",
   "metadata": {},
   "source": [
    "Se tivermos lidando com dados de entrada N-dimensionais, a camada de entrada será composta por N neurônios. Se tivermos M classes distintas em nossos dados de treinamento, então a camada de saída consistirá de M neurônios. As camadas entre as camadas de entrada e saída são chamadas de camadas ocultas. Uma rede neural simples consistirá de um par de camadas e uma rede neural profunda consistirá em várias camadas.\n",
    "\n",
    "Considere o caso em que queremos usar uma rede neural para classificar os dados fornecidos. O primeiro passo é coletar os dados de treinamento apropriados e rotulá-los. Cada neurônio atua como uma função simples e a rede neural treina-se até que o erro fique abaixo de um certo valor. O erro é basicamete a diferença entre a saída prevista e a saída real. Com base no tamanho do erro, a rede neural se ajusta e retrai até se aproximar da solução."
   ]
  },
  {
   "cell_type": "code",
   "execution_count": null,
   "metadata": {},
   "outputs": [],
   "source": []
  }
 ],
 "metadata": {
  "kernelspec": {
   "display_name": "Python 3",
   "language": "python",
   "name": "python3"
  },
  "language_info": {
   "codemirror_mode": {
    "name": "ipython",
    "version": 3
   },
   "file_extension": ".py",
   "mimetype": "text/x-python",
   "name": "python",
   "nbconvert_exporter": "python",
   "pygments_lexer": "ipython3",
   "version": "3.6.5"
  }
 },
 "nbformat": 4,
 "nbformat_minor": 2
}
