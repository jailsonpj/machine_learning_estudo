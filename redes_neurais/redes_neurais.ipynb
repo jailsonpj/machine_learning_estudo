{
 "cells": [
  {
   "cell_type": "markdown",
   "metadata": {},
   "source": [
    "# Introdução às Redes Neurais Artificiais"
   ]
  },
  {
   "cell_type": "markdown",
   "metadata": {},
   "source": [
    "Uma das premissas fundamentais da Inteligência Artificial é construir máquinas que possam realizar tarefas que exijam inteligência humana. O cérebro humano é incrível em aprender coisas novas. Por que não usar o modelo do cérebro humano para construir uma máquina? Uma rede neural artificial é um modelo projetado para simular o processo de aprendizagem do cérebro humano.\n",
    "\n",
    "As redes neurais artificiais são projetadas de modo que possam identificar os padrões subjacentes nos dados e aprender com eles. Eles podem ser usados ​​para várias tarefas, como classificação, regressão, segmentação e assim por diante. Precisamos converter qualquer dado dado em formato numérico antes de alimentá-lo na rede neural. Por exemplo, lidamos com muitos tipos diferentes de dados, incluindo visual, textual, série temporal e assim por diante. Precisamos descobrir como representar problemas de uma maneira que possa ser entendida por redes neurais artificiais."
   ]
  },
  {
   "cell_type": "markdown",
   "metadata": {},
   "source": [
    "# Neurônios"
   ]
  },
  {
   "cell_type": "markdown",
   "metadata": {},
   "source": [
    "Como grande parte dos algoritmos de aprendzado de máquina, os neurônios são modelos matemáticos (ou funções) que representam a realidade de forma simplifcada. Eles são compostos por uma soma ponderada, seguida ou não de uma função ativação. Por exemplo, considere a tarefa de prever se o preço de uma casa será maior ou menor do que a média, das as variáveis x1, o tamanho da casa em metros quadrados,  x2, o índice de pobreza da vizinhaça e x3 o tamanho do meu cabelo. Podemos facilmente utilizar um neurônio para resolver essa tarefa. Note que , provavelmente, quanto maior x1, maior a probabilidade da casa ter um preço acima da média (e vice e versa). Assim, devemos esperar que o peso de x1,w1, na soma ponderada do nosso neurônio seja positivo,indicando que essa variável tem um impacto igualmente positivo na probabilidade do preço da casa ser acima da média. Com o mesmo racicinio, podemos argumentar que w2 será negativo. Note que esses dois pesos não precisam ter a mesma intensidade. Pode ser que o impacto positivo de x1 seja muito maior que o impacto negativo de x2, de forma que w1 seja maior que w2. Em outras palavras, pode ser que o tamanho da casa seja um determinante mais importante do preço do que o índice da vizinhaça. Por fim, é provável que o tamanho do meu cabelo,x3, não tenha muito impacto no preço de uma casa. Por isso, esperamos que w3 seja muito próximo de zero na soma ponderada do nosso neurônio. Isso indica que essa variável influencia pouco no preço da casa. Repare também temos uma variável que é sempre 1. A ponderação desse 1 com o w0 é o que chamamos de viés. Esse viés captura a tendência da casa ter valor alto, uma vez que já consideramos as outras variáveis. Eles são variáveis que o neurônio (e , mais para frente,a rede neural) vai aprender (ou estimar) durante o treinamento.\n",
    "\n",
    "Além da soma ponderada, nosso neurônio precisa de uma função de ativação. Isso porque a soma ponderada pode nos dar um resultado qualquer, mas, como nossa previsão é uma probabilidade, precisamos de uma função ativação que converta um número qualquer, positivo ou negativo, em um valor entre 0 e 1. Essa função é denominada função SOFTMAX, que será utilizada após a soma ponderada do nosso neurônio. Intuitivamente, quando as mencionamos em redes neurais , imagine a função ativação como algo que dá um comportamento mais complexo aos neurônios. Elas também são fundamentais nas redes neurais, para que essas consigam representar padrões complexos."
   ]
  },
  {
   "cell_type": "markdown",
   "metadata": {},
   "source": [
    "# Redes Neurais Artificiais"
   ]
  },
  {
   "cell_type": "markdown",
   "metadata": {},
   "source": [
    "Infelizmente, os neurônios são bastante limitados. Em aprendizado de máquina, queremos que um algoritmo possa aprender qualquer tipo de padrão presente nos dados, mas isso não é possível com um simples neurônio. Por isso, construímos as redes neurais, que são simplesmnte vários neurônios conectados. Pense nos neurônios como blocos de Lego e nas redes neurais como estruturas que montamos empilhando esses blocos de Lego. Dependendo da tarefa uma estrutura mais simples e mais comum de rede neural , o modelo de redes neurais feedforward densas."
   ]
  },
  {
   "cell_type": "markdown",
   "metadata": {},
   "source": [
    "# Construindo uma Rede Neural"
   ]
  },
  {
   "cell_type": "markdown",
   "metadata": {},
   "source": [
    "O processo de aprendizagem humana é hierárquico. Temos vários estágios na rede neural do nosso cérebro e cada estágio corresponde a uma granuidade diferente. Alguns estágios aprendem coisas simples e alguns estágios aprendem coisas mais complexas. Vamos considerar um exemplo de reconhecimento visual de um objeto. quando olhamos para uma caixa, o primeiro estágio identifica coisas simples como cantos e bordas. O próximo estágio identifica a forma genérica e o estágio depois disso identifica que tipo de objeto é. Este processo é diferente para trefas diferentes, mas você entende a ideia! Ao construir essa hieráquia, nosso cérebro humano separa rapidamente os conceitos e identifica o objeto dado.\n",
    "\n",
    "Para simular o processo de aprendizagem do cérebro humano, uma rede neural artificial é construída usando camadas de neurônios. Esses neurônios são inspirados pelos neurônios biológicos que discutimos no parágrafo anterior. Cada camada em uma rede neural artificial é um conjunto de neurônios independentes . Cada neurõnio em uma camada é conectado aos neurônios na camada adjacente."
   ]
  },
  {
   "cell_type": "markdown",
   "metadata": {},
   "source": [
    "# Treinamento"
   ]
  },
  {
   "cell_type": "markdown",
   "metadata": {},
   "source": [
    "O treianmento de um Rede Neural é feito por um processo de otimização no qual minimizamos uma função custo(ou objetivo). Como um nível de simplicidade , pense na função custo como algo que mede a diferença entre o que a rede neural prevê e o que de fato foi observado. Por exemplo, se a rede neural prever um valor pequeno para a probabilidade de uma casa ter preço acima da média, mas a casa, na verdade, for bastante cara, então a função custo terá um valor alto.\n",
    "\n",
    "Para iniciar o treinamento, vamos chutar alguns valores para os ws de cada neurônio. Em seguida, observaremos a previsão da rede neural em alguns dados,que, muito provavelmente,será péssima. Dessa forma, os ws iniciais serão associados a um alto custo ou a uma região elevada na superficie de custo. No treinamento então, vamos atualizar os ws de maneira iterativa, de forma a diminuir o custo. Isso é feito com a técnica de Gradiente Descendente Estocástico, que pode ser entendida como uma descida na superfície de custo de uma tarefa de otimização."
   ]
  },
  {
   "cell_type": "code",
   "execution_count": 2,
   "metadata": {},
   "outputs": [],
   "source": [
    "#import cv2"
   ]
  },
  {
   "cell_type": "markdown",
   "metadata": {},
   "source": [
    "# Treinando uma Rede Neural"
   ]
  },
  {
   "cell_type": "markdown",
   "metadata": {},
   "source": [
    "Se tivermos lidando com dados de entrada N-dimensionais, a camada de entrada será composta por N neurônios. Se tivermos M classes distintas em nossos dados de treinamento, então a camada de saída consistirá de M neurônios. As camadas entre as camadas de entrada e saída são chamadas de camadas ocultas. Uma rede neural simples consistirá de um par de camadas e uma rede neural profunda consistirá em várias camadas.\n",
    "\n",
    "Considere o caso em que queremos usar uma rede neural para classificar os dados fornecidos. O primeiro passo é coletar os dados de treinamento apropriados e rotulá-los. Cada neurônio atua como uma função simples e a rede neural treina-se até que o erro fique abaixo de um certo valor. O erro é basicamete a diferença entre a saída prevista e a saída real. Com base no tamanho do erro, a rede neural se ajusta e retrai até se aproximar da solução."
   ]
  },
  {
   "cell_type": "code",
   "execution_count": null,
   "metadata": {},
   "outputs": [],
   "source": []
  }
 ],
 "metadata": {
  "kernelspec": {
   "display_name": "Python 3",
   "language": "python",
   "name": "python3"
  },
  "language_info": {
   "codemirror_mode": {
    "name": "ipython",
    "version": 3
   },
   "file_extension": ".py",
   "mimetype": "text/x-python",
   "name": "python",
   "nbconvert_exporter": "python",
   "pygments_lexer": "ipython3",
   "version": "3.6.5"
  }
 },
 "nbformat": 4,
 "nbformat_minor": 2
}
