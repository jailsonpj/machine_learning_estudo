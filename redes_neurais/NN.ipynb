{
 "cells": [
  {
   "cell_type": "code",
   "execution_count": null,
   "metadata": {},
   "outputs": [],
   "source": [
    "import tensorflow as tf #importa o tensorflow\n",
    "from tensorflow.contrib.learn import DNNClassifier #importa o modelo de Rede neural do tensorflow\n",
    "import numpy as np\n",
    "import os"
   ]
  },
  {
   "cell_type": "markdown",
   "metadata": {},
   "source": [
    "Utilizando  base de dados MNIST, que contém 55 mil dados de treino e 10 mil dados de teste.\n",
    "Os dados são imagens de 28X28 pixeis, o que nos dá 784 variáveis para colocar na camada de entrada da nossa rede neural. Mas, antes disso, vamos criar uma nova pasta no nosso computador e baixar esses dados nela."
   ]
  },
  {
   "cell_type": "code",
   "execution_count": 7,
   "metadata": {},
   "outputs": [
    {
     "name": "stdout",
     "output_type": "stream",
     "text": [
      "Extracting tmp/train-images-idx3-ubyte.gz\n",
      "Extracting tmp/train-labels-idx1-ubyte.gz\n",
      "Extracting tmp/t10k-images-idx3-ubyte.gz\n",
      "Extracting tmp/t10k-labels-idx1-ubyte.gz\n"
     ]
    }
   ],
   "source": [
    "#criando pasta para colocar os dados\n",
    "if not os.path.exists('tmp'): #se a pasta não existir\n",
    "    os.makedirs('tmp') #cria a pasta\n",
    "    \n",
    "# baixa os dados na pasta criada\n",
    "from tensorflow.examples.tutorials.mnist import input_data # baixa os dados\n",
    "data = input_data.read_data_sets(\"tmp/\",one_hot=False) #baixa e carrega os dados já formatados"
   ]
  },
  {
   "cell_type": "code",
   "execution_count": 9,
   "metadata": {},
   "outputs": [
    {
     "name": "stdout",
     "output_type": "stream",
     "text": [
      "(55000, 784)\n",
      "(10000, 784)\n",
      "[[0. 0. 0. ... 0. 0. 0.]\n",
      " [0. 0. 0. ... 0. 0. 0.]\n",
      " [0. 0. 0. ... 0. 0. 0.]\n",
      " ...\n",
      " [0. 0. 0. ... 0. 0. 0.]\n",
      " [0. 0. 0. ... 0. 0. 0.]\n",
      " [0. 0. 0. ... 0. 0. 0.]]\n"
     ]
    }
   ],
   "source": [
    "print(data.train.images.shape) #mostra o formato dos dados de treino\n",
    "print(data.test.images.shape) #mostra o formato dos dados de test\n",
    "print(data.train.images) # mostra algumas linhas e colunas dos dados de treino"
   ]
  },
  {
   "cell_type": "markdown",
   "metadata": {},
   "source": [
    "Acima mostra que os dados de treino são uma tabela de 55 mil linhas, cada uma com uma observação de 784 colunas, (que representam os pixeis de uma imagem). Como na tarefa se encaxa no regime de aprendizado supervisionado, cada imagem vem anotada com um alvo, o dígito que está  nela( e que queremos prever). Podemos acessar os alvos de treino com o comando abaixo:"
   ]
  },
  {
   "cell_type": "code",
   "execution_count": 10,
   "metadata": {},
   "outputs": [
    {
     "name": "stdout",
     "output_type": "stream",
     "text": [
      "(55000,)\n",
      "[7 3 4 ... 5 6 8]\n"
     ]
    }
   ],
   "source": [
    "print(data.train.labels.shape) # mostra o formato dos alvos de treino\n",
    "print(data.train.labels) # mostra os alvos de treino"
   ]
  },
  {
   "cell_type": "markdown",
   "metadata": {},
   "source": [
    "As anotações da base de treino podem ser entendidas como uma tabela de 55 mil linhas e com uma única coluna. Pelo que vemos acima, nossa primeira imagem é um 7, nossa segunda imagem é um 3 e assim por diante. "
   ]
  },
  {
   "cell_type": "code",
   "execution_count": 13,
   "metadata": {},
   "outputs": [
    {
     "data": {
      "image/png": "[encoded data removed]",
      "text/plain": [
       "<Figure size 432x288 with 1 Axes>"
      ]
     },
     "metadata": {},
     "output_type": "display_data"
    }
   ],
   "source": [
    "# visualizando a imagem no indice 1\n",
    "from matplotlib import pyplot as plt\n",
    "\n",
    "plt.imshow(data.train.images[1].reshape(28,28),cmap='Greys',interpolation='nearest')\n",
    "plt.title(str(data.train.labels[1])) # anotação do digito\n",
    "plt.show()"
   ]
  },
  {
   "cell_type": "markdown",
   "metadata": {},
   "source": [
    "# Definindo os hiper-parâmetros"
   ]
  },
  {
   "cell_type": "markdown",
   "metadata": {},
   "source": [
    "O primeiro passo é definir os hiper-parâmetros do modelo. Diferentemente dos parâmetros da rede, os w, os hiper-parâmetros não são naturalmente aprendidos durante o treinamento e devem ser ajustados à mão. Alguns dos hiper-parâmetros mais importantes da rede neural são o número de camadas e o número de neurônios em cada camada. Esses hiper-parâmetros definem a capacidade da rede neural e , por meio deles, podemos ajustar o trade-off entre erro por viés e por variância. Quanto maior o número de neurônios, mais potente será a rede neural, mas a probabilidade dela sofrer com sobre-ajustamento será superior\n",
    "\n",
    "Outros hiper-parâmetros da rede neural são o tamanho do punhado de dados usado durante a otimização e o tamanho do passo dado a cada iteração de treino. Em outras palavras, o tamanho do punhado de dados define quão precisa será nossa estimaiva local da superficie de custo, enquanto que a taxa de aprendizado definirá o tamanho do passo em cada dscida nessa superfície de custo.\n",
    "\n",
    "Outro detalhe importante é que a rede neural que será construida não tem apenas um neurônio na camada de saída, mas 10 neurônios. Cada neurônio representará a probabilidade da imagem conter um dos dígitos de 0 a 9"
   ]
  },
  {
   "cell_type": "code",
   "execution_count": 14,
   "metadata": {},
   "outputs": [],
   "source": [
    "# definindo constantes \n",
    "lr = 0.01 # taxa de aprendizado\n",
    "n_iter = 1000 # numero de iterações de treino\n",
    "batch_size = 128 # qtd. de imagens no punhado de dados\n",
    "n_inputs = 28 * 28 # número de variáveis (pixeis)\n",
    "n_l1 = 512 # número de neurônios da primeria camada\n",
    "n_l2 = 512 # número de neurônios da segunda camada\n",
    "n_outputs = 10 # número de neurônios da camada de saída"
   ]
  },
  {
   "cell_type": "code",
   "execution_count": null,
   "metadata": {},
   "outputs": [],
   "source": []
  }
 ],
 "metadata": {
  "kernelspec": {
   "display_name": "Python 3",
   "language": "python",
   "name": "python3"
  }
 },
 "nbformat": 4,
 "nbformat_minor": 2
}
