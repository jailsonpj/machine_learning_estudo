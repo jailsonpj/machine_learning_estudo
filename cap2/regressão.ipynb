{
 "cells": [
  {
   "cell_type": "markdown",
   "metadata": {},
   "source": [
    "# O que é regressão?"
   ]
  },
  {
   "cell_type": "markdown",
   "metadata": {},
   "source": [
    "Regressão é o processo de estimar a relação entre variáveis de entrada e saída. Uma coisa a notar é que as variáveis de saída são números reais de valor contínuo. Portanto, há um número infinito de possibilidades. Isso está em contraste com a classificação, em que o número de classes de saída é fixo. As classes pertencem a um conjunto finito de possibilidades.\n",
    "\n",
    "Na regressão, assume-se que as variáveis de saída dependem das variáveis de entrada, portanto, queremos ver como elas estão relacionadas. Consequentemente, as variáveis de entrada são chamadas de variáveis independentes, também conhecidas como preditores, e as variáveis de saída são chamadas de variáveis dependentes, também conhecidas como variáveis de critério. Não é necessário que as variáveis de entrada sejam independentes umas das outras. Existem muitas situações em que existem correlações entre variáveis de entrada.\n",
    "\n",
    "A análise de regressão nos ajuda a entender como o valor da variável de saída muda quando vari- am algumas variáveis de entrada enquanto mantemos outras variáveis de entrada fixas. Na regressão linear, assumimos que a relação entre entrada e saída é linear. Isso coloca uma restrição em nosso procedimento de modelagem, mas é rápido e eficiente."
   ]
  },
  {
   "cell_type": "markdown",
   "metadata": {},
   "source": [
    "# Construindo um único regressor variavel"
   ]
  },
  {
   "cell_type": "code",
   "execution_count": 1,
   "metadata": {},
   "outputs": [],
   "source": [
    "import pickle\n",
    "\n",
    "import numpy as np\n",
    "from sklearn import linear_model\n",
    "import sklearn.metrics as sm\n",
    "import matplotlib.pyplot as plt"
   ]
  },
  {
   "cell_type": "code",
   "execution_count": 2,
   "metadata": {},
   "outputs": [],
   "source": [
    "#input file containing data\n",
    "input_file = 'data_singlevar_regr.txt'"
   ]
  },
  {
   "cell_type": "markdown",
   "metadata": {},
   "source": [
    "É um arquivo separado por vírgulas, para que possamos carregá-los facilmente usando uma chamada de função de uma linha:"
   ]
  },
  {
   "cell_type": "code",
   "execution_count": 3,
   "metadata": {},
   "outputs": [],
   "source": [
    "# read data\n",
    "data = np.loadtxt(input_file,delimiter=',')\n",
    "X, y = data[:,:-1], data[:, -1] "
   ]
  },
  {
   "cell_type": "markdown",
   "metadata": {},
   "source": [
    "Divida-o em treinamento e teste:"
   ]
  },
  {
   "cell_type": "code",
   "execution_count": 4,
   "metadata": {},
   "outputs": [],
   "source": [
    "#Train and test split\n",
    "num_training = int(0.8 * len(X))\n",
    "num_test = len(X) - num_training\n",
    "\n",
    "#Training data\n",
    "X_train, y_train = X[:num_training], y[:num_training]\n",
    "\n",
    "# Test data\n",
    "X_test, y_test = X[num_training:], y[num_training:]"
   ]
  },
  {
   "cell_type": "markdown",
   "metadata": {},
   "source": [
    "criando o regressor linear e treinando-o usando os dados de treinamento:"
   ]
  },
  {
   "cell_type": "code",
   "execution_count": 5,
   "metadata": {},
   "outputs": [
    {
     "data": {
      "text/plain": [
       "LinearRegression(copy_X=True, fit_intercept=True, n_jobs=1, normalize=False)"
      ]
     },
     "execution_count": 5,
     "metadata": {},
     "output_type": "execute_result"
    }
   ],
   "source": [
    "# create linear regressor object\n",
    "regressor = linear_model.LinearRegression()\n",
    "\n",
    "# train the model using the training sets\n",
    "regressor.fit(X_train,y_train)"
   ]
  },
  {
   "cell_type": "markdown",
   "metadata": {},
   "source": [
    "Prever a saida para o conjunto de dados de teste usando o modelo de treinamento:"
   ]
  },
  {
   "cell_type": "code",
   "execution_count": 6,
   "metadata": {},
   "outputs": [],
   "source": [
    "# predict the output\n",
    "y_test_pred = regressor.predict(X_test)"
   ]
  },
  {
   "cell_type": "markdown",
   "metadata": {},
   "source": [
    "plotar saída:"
   ]
  },
  {
   "cell_type": "code",
   "execution_count": 8,
   "metadata": {},
   "outputs": [
    {
     "data": {
      "image/png": "[encoded data removed]",
      "text/plain": [
       "<Figure size 432x288 with 1 Axes>"
      ]
     },
     "metadata": {},
     "output_type": "display_data"
    }
   ],
   "source": [
    "# plot outputs\n",
    "plt.scatter(X_test,y_test,color='green')\n",
    "plt.plot(X_test,y_test_pred,color='black',linewidth=4)\n",
    "plt.xticks(())\n",
    "plt.yticks(())\n",
    "plt.show()"
   ]
  },
  {
   "cell_type": "markdown",
   "metadata": {},
   "source": [
    "calculando as métricas de desempenho para o regressor comparando a verdade básica, que se refere ás saída reais, com as saídas previstas:"
   ]
  },
  {
   "cell_type": "code",
   "execution_count": 9,
   "metadata": {},
   "outputs": [
    {
     "name": "stdout",
     "output_type": "stream",
     "text": [
      "Linear regressor peformance:\n",
      "Mean absolute error = 0.59\n",
      "Mean squared error = 0.49\n",
      "Median absolute error = 0.51\n",
      "Explain variance score = 0.86\n",
      "R2 score = 0.86\n"
     ]
    }
   ],
   "source": [
    "# compute performance metrics\n",
    "print(\"Linear regressor peformance:\")\n",
    "print(\"Mean absolute error =\",round(sm.mean_absolute_error(y_test,y_test_pred),2))\n",
    "print(\"Mean squared error =\",round(sm.mean_squared_error(y_test,y_test_pred),2))\n",
    "print(\"Median absolute error =\",round(sm.median_absolute_error(y_test,y_test_pred),2))\n",
    "print(\"Explain variance score =\",round(sm.explained_variance_score(y_test,y_test_pred),2))\n",
    "print(\"R2 score =\",round(sm.r2_score(y_test,y_test_pred),2))"
   ]
  },
  {
   "cell_type": "code",
   "execution_count": null,
   "metadata": {},
   "outputs": [],
   "source": []
  }
 ],
 "metadata": {
  "kernelspec": {
   "display_name": "Python 3",
   "language": "python",
   "name": "python3"
  },
  "language_info": {
   "codemirror_mode": {
    "name": "ipython",
    "version": 3
   },
   "file_extension": ".py",
   "mimetype": "text/x-python",
   "name": "python",
   "nbconvert_exporter": "python",
   "pygments_lexer": "ipython3",
   "version": "3.6.5"
  }
 },
 "nbformat": 4,
 "nbformat_minor": 2
}
