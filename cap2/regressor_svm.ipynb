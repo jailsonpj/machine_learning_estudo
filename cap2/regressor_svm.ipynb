{
 "cells": [
  {
   "cell_type": "markdown",
   "metadata": {},
   "source": [
    "# Estimando os preços da habitação usando um Regressor de Vetor de Suporte"
   ]
  },
  {
   "cell_type": "markdown",
   "metadata": {},
   "source": [
    "Vamos ver como usar o conceito SVM para construir um regressor para estimar os preços da habitação. Usaremos o conjunto de dados disponível sklearnonde cada ponto de dados é definido por 13 atributos. Nosso objetivo é estimar os preços da habitação com base nesses atributos."
   ]
  },
  {
   "cell_type": "code",
   "execution_count": 1,
   "metadata": {},
   "outputs": [],
   "source": [
    "import numpy as np\n",
    "from sklearn import datasets\n",
    "from sklearn.svm import SVR\n",
    "from sklearn.metrics import mean_squared_error,explained_variance_score\n",
    "from sklearn.utils import shuffle"
   ]
  },
  {
   "cell_type": "code",
   "execution_count": 2,
   "metadata": {},
   "outputs": [],
   "source": [
    "#carregando dados\n",
    "data = datasets.load_boston()"
   ]
  },
  {
   "cell_type": "code",
   "execution_count": 4,
   "metadata": {},
   "outputs": [],
   "source": [
    "# embaralhando os dados para não influenciar na análise\n",
    "X , y = shuffle(data.data,data.target,random_state=7)"
   ]
  },
  {
   "cell_type": "code",
   "execution_count": 6,
   "metadata": {},
   "outputs": [],
   "source": [
    "#dividindo o conjunto em treinamento e teste\n",
    "\n",
    "num_training = int(0.8*len(X))\n",
    "X_train,y_train = X[:num_training],y[:num_training]\n",
    "X_test,y_test = X[num_training:],y[num_training:]"
   ]
  },
  {
   "cell_type": "markdown",
   "metadata": {},
   "source": [
    "Crie e treine o Support Vector Regressor usando um kernel linear. O parâmetro C representa a penalidade por erro de treinamento. Se você aumentar o valor de C, o modelo ajustará mais para ajustar os dados de treinamento. Mas isso pode levar a overfitting e causar a perder sua generalidade. O parâmetro epsilon especifica um limite; não há penalidade por erro de treinamento se o valor previsto estiver dentro dessa distância do valor real:"
   ]
  },
  {
   "cell_type": "code",
   "execution_count": 10,
   "metadata": {},
   "outputs": [
    {
     "data": {
      "text/plain": [
       "SVR(C=1.0, cache_size=200, coef0=0.0, degree=3, epsilon=0.1, gamma='auto',\n",
       "  kernel='linear', max_iter=-1, shrinking=True, tol=0.001, verbose=False)"
      ]
     },
     "execution_count": 10,
     "metadata": {},
     "output_type": "execute_result"
    }
   ],
   "source": [
    "# Criando Support Vector Regression model\n",
    "sv_regressor = SVR(kernel='linear',C=1.0,epsilon=0.1)\n",
    "\n",
    "# Trainando Supoort Vector Regressor\n",
    "sv_regressor.fit(X_train,y_train)"
   ]
  },
  {
   "cell_type": "code",
   "execution_count": 11,
   "metadata": {},
   "outputs": [
    {
     "name": "stdout",
     "output_type": "stream",
     "text": [
      "\n",
      "#### Performance ####\n",
      "Mean squared error = 15.41\n",
      "Explained variance score = 0.82\n"
     ]
    }
   ],
   "source": [
    "#Avaliando o desempenho do regressor\n",
    "# Predict the output \n",
    "y_test_pred = sv_regressor.predict(X_test) \n",
    "mse = mean_squared_error(y_test, y_test_pred) \n",
    "evs = explained_variance_score(y_test, y_test_pred)  \n",
    "print(\"\\n#### Performance ####\") \n",
    "print(\"Mean squared error =\", round(mse, 2)) \n",
    "print(\"Explained variance score =\", round(evs, 2)) "
   ]
  },
  {
   "cell_type": "code",
   "execution_count": null,
   "metadata": {},
   "outputs": [],
   "source": []
  }
 ],
 "metadata": {
  "kernelspec": {
   "display_name": "Python 3",
   "language": "python",
   "name": "python3"
  },
  "language_info": {
   "codemirror_mode": {
    "name": "ipython",
    "version": 3
   },
   "file_extension": ".py",
   "mimetype": "text/x-python",
   "name": "python",
   "nbconvert_exporter": "python",
   "pygments_lexer": "ipython3",
   "version": "3.6.5"
  }
 },
 "nbformat": 4,
 "nbformat_minor": 2
}
