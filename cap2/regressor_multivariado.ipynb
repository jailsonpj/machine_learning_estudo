{
 "cells": [
  {
   "cell_type": "code",
   "execution_count": 1,
   "metadata": {},
   "outputs": [],
   "source": [
    "import numpy as np\n",
    "from sklearn import linear_model\n",
    "import sklearn.metrics as sm\n",
    "from sklearn.preprocessing import PolynomialFeatures"
   ]
  },
  {
   "cell_type": "code",
   "execution_count": 2,
   "metadata": {},
   "outputs": [],
   "source": [
    "# input file containing data\n",
    "input_file = 'data_multivar_regr.txt'"
   ]
  },
  {
   "cell_type": "code",
   "execution_count": 3,
   "metadata": {},
   "outputs": [],
   "source": [
    "# carregando arquivo\n",
    "data = np.loadtxt(input_file,delimiter=',')\n",
    "X,y = data[:,:-1],data[:,-1]"
   ]
  },
  {
   "cell_type": "code",
   "execution_count": 5,
   "metadata": {},
   "outputs": [],
   "source": [
    "#dividindo os dados em treinamento e teste\n",
    "\n",
    "num_training = int(0.8*len(X))\n",
    "num_test = len(X) - num_training\n",
    "\n",
    "#dados de treinamento\n",
    "X_train,y_train = X[:num_training],y[:num_training]\n",
    "\n",
    "#dados de teste\n",
    "X_test , y_test = X[num_training:],y[num_training:]"
   ]
  },
  {
   "cell_type": "code",
   "execution_count": 6,
   "metadata": {},
   "outputs": [
    {
     "data": {
      "text/plain": [
       "LinearRegression(copy_X=True, fit_intercept=True, n_jobs=1, normalize=False)"
      ]
     },
     "execution_count": 6,
     "metadata": {},
     "output_type": "execute_result"
    }
   ],
   "source": [
    "#criando modelo de regressor linear\n",
    "linear_regressor = linear_model.LinearRegression()\n",
    "\n",
    "#trainando o modelo\n",
    "linear_regressor.fit(X_train,y_train)"
   ]
  },
  {
   "cell_type": "code",
   "execution_count": 8,
   "metadata": {},
   "outputs": [],
   "source": [
    "#prever a saída\n",
    "y_test_pred = linear_regressor.predict(X_test)"
   ]
  },
  {
   "cell_type": "code",
   "execution_count": 9,
   "metadata": {},
   "outputs": [
    {
     "name": "stdout",
     "output_type": "stream",
     "text": [
      "Linear Regressor performance:\n",
      "Mean absolute error = 3.58\n",
      "Mean squared error = 20.31\n",
      "Median absolute error = 2.99\n",
      "Explained variance score = 0.86\n",
      "R2 score = 0.86\n"
     ]
    }
   ],
   "source": [
    "# Measure performance \n",
    "print(\"Linear Regressor performance:\") \n",
    "print(\"Mean absolute error =\", round(sm.mean_absolute_error(y_test, y_test_pred), 2)) \n",
    "print(\"Mean squared error =\", round(sm.mean_squared_error(y_test, y_test_pred), 2)) \n",
    "print(\"Median absolute error =\", round(sm.median_absolute_error(y_test, y_test_pred), 2)) \n",
    "print(\"Explained variance score =\", round(sm.explained_variance_score(y_test, y_test_pred), 2)) \n",
    "print(\"R2 score =\", round(sm.r2_score(y_test, y_test_pred), 2)) "
   ]
  },
  {
   "cell_type": "code",
   "execution_count": 10,
   "metadata": {},
   "outputs": [],
   "source": [
    "#criando um regressor polinomial de grau 10\n",
    "polynomial = PolynomialFeatures(degree=10)\n",
    "X_train_transformed = polynomial.fit_transform(X_train)\n",
    "datapoint = [[7.75,6.35,5.56]]\n",
    "poly_datapoint = polynomial.fit_transform(datapoint)"
   ]
  },
  {
   "cell_type": "code",
   "execution_count": 11,
   "metadata": {},
   "outputs": [
    {
     "name": "stdout",
     "output_type": "stream",
     "text": [
      "\n",
      "Linear regression:\n",
      " [36.05286276]\n",
      "\n",
      "Polynomial regression:\n",
      " [41.45242612]\n"
     ]
    }
   ],
   "source": [
    "poly_linear_model = linear_model.LinearRegression() \n",
    "poly_linear_model.fit(X_train_transformed, y_train) \n",
    "print(\"\\nLinear regression:\\n\", linear_regressor.predict(datapoint)) \n",
    "print(\"\\nPolynomial regression:\\n\", poly_linear_model.predict(poly_datapoint)) "
   ]
  },
  {
   "cell_type": "code",
   "execution_count": 12,
   "metadata": {},
   "outputs": [],
   "source": [
    "#o regressor polinomial é o que mais chega proximo do valor real que é quase igual o da linha 11 no arquivo"
   ]
  },
  {
   "cell_type": "code",
   "execution_count": null,
   "metadata": {},
   "outputs": [],
   "source": []
  }
 ],
 "metadata": {
  "kernelspec": {
   "display_name": "Python 3",
   "language": "python",
   "name": "python3"
  },
  "language_info": {
   "codemirror_mode": {
    "name": "ipython",
    "version": 3
   },
   "file_extension": ".py",
   "mimetype": "text/x-python",
   "name": "python",
   "nbconvert_exporter": "python",
   "pygments_lexer": "ipython3",
   "version": "3.6.5"
  }
 },
 "nbformat": 4,
 "nbformat_minor": 2
}
