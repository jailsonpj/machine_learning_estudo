{
 "cells": [
  {
   "cell_type": "markdown",
   "metadata": {},
   "source": [
    "# Matriz de Confusão"
   ]
  },
  {
   "cell_type": "markdown",
   "metadata": {},
   "source": [
    "Uma matriz de confusão é uma figura ou tabela usada para descrever o desempenho de um classificador. Geralmente é extraído de um conjunto de dados de teste para o qual a verdade básica é conhecida. Comparamos cada classe com todas as outras classes e vemos quantas amostras são classificadas incorretamente. Durante a construção desta tabela, de fato encontramos várias métricas importantes que são muito importantes no campo do aprendizado de máquina. Considerando um caso de classificação binária em que a saída é 0 ou 1\n",
    "\n",
    "- Verdadeiro pontos positivos:\n",
    "Estas são as amostras para as quais previmos 1 como saída e a verdade básica é também.\n",
    "\n",
    "- Veradeiro negativo:\n",
    "Estas são as amostras para as quais previmos 0 como saída e a verdade básica é 0 também.\n",
    "\n",
    "- Falso positivo:\n",
    "Estas são amostras para as quais previmos 1 como a saída, mas a verdade básica é 0 .Isso também é conhecido como um erro de tipo 1\n",
    "\n",
    "- Falso negativo:\n",
    "Estas são amostras para as quais previmos 0 como a saída, mas a verdade básica é 1. Isso também é conhecido como um erro do tipo 2."
   ]
  },
  {
   "cell_type": "code",
   "execution_count": 1,
   "metadata": {},
   "outputs": [],
   "source": [
    "import numpy as np\n",
    "import matplotlib.pyplot as plt\n",
    "from sklearn.metrics import confusion_matrix\n",
    "from sklearn.metrics import classification_report"
   ]
  },
  {
   "cell_type": "markdown",
   "metadata": {},
   "source": [
    "definindo alguns rótulos de amostras para a verdade básica e a saída prevista:"
   ]
  },
  {
   "cell_type": "code",
   "execution_count": 2,
   "metadata": {},
   "outputs": [],
   "source": [
    "#Define sample labels\n",
    "true_labels = [2,0,0,2,4,4,1,0,3,3,3]\n",
    "pred_labels = [2,1,0,2,4,3,1,0,1,3,3]"
   ]
  },
  {
   "cell_type": "markdown",
   "metadata": {},
   "source": [
    "criando a matriz de confusão usando os rótulos que acabamos de definir:"
   ]
  },
  {
   "cell_type": "code",
   "execution_count": 3,
   "metadata": {},
   "outputs": [],
   "source": [
    "#create confusion matrix\n",
    "confusion_mat = confusion_matrix(true_labels,pred_labels)"
   ]
  },
  {
   "cell_type": "markdown",
   "metadata": {},
   "source": [
    "visualização da matriz de confusão"
   ]
  },
  {
   "cell_type": "code",
   "execution_count": 5,
   "metadata": {},
   "outputs": [
    {
     "data": {
      "image/png": "[encoded data removed]",
      "text/plain": [
       "<Figure size 432x288 with 2 Axes>"
      ]
     },
     "metadata": {},
     "output_type": "display_data"
    }
   ],
   "source": [
    "plt.imshow(confusion_mat, interpolation='nearest',cmap=plt.cm.gray)\n",
    "plt.title('Confusion Matrix')\n",
    "plt.colorbar()\n",
    "ticks = np.arange(5)\n",
    "plt.xticks(ticks,ticks)\n",
    "plt.yticks(ticks,ticks)\n",
    "plt.ylabel('True labels')\n",
    "plt.xlabel('Predicted labels')\n",
    "plt.show()"
   ]
  },
  {
   "cell_type": "markdown",
   "metadata": {},
   "source": [
    "relatório de classificação"
   ]
  },
  {
   "cell_type": "code",
   "execution_count": 6,
   "metadata": {},
   "outputs": [
    {
     "name": "stdout",
     "output_type": "stream",
     "text": [
      "\n",
      "              precision    recall  f1-score   support\n",
      "\n",
      "    Class-0       1.00      0.67      0.80         3\n",
      "    Class-1       0.33      1.00      0.50         1\n",
      "    Class-2       1.00      1.00      1.00         2\n",
      "    Class-3       0.67      0.67      0.67         3\n",
      "    Class-4       1.00      0.50      0.67         2\n",
      "\n",
      "avg / total       0.85      0.73      0.75        11\n",
      "\n"
     ]
    }
   ],
   "source": [
    "targets = ['Class-0','Class-1','Class-2','Class-3','Class-4']\n",
    "print('\\n',classification_report(true_labels,pred_labels,target_names=targets))"
   ]
  },
  {
   "cell_type": "code",
   "execution_count": null,
   "metadata": {},
   "outputs": [],
   "source": []
  }
 ],
 "metadata": {
  "kernelspec": {
   "display_name": "Python 3",
   "language": "python",
   "name": "python3"
  },
  "language_info": {
   "codemirror_mode": {
    "name": "ipython",
    "version": 3
   },
   "file_extension": ".py",
   "mimetype": "text/x-python",
   "name": "python",
   "nbconvert_exporter": "python",
   "pygments_lexer": "ipython3",
   "version": "3.6.5"
  }
 },
 "nbformat": 4,
 "nbformat_minor": 2
}
